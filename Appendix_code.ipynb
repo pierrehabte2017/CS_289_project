{
 "cells": [
  {
   "cell_type": "markdown",
   "metadata": {},
   "source": [
    "# Prepare de dataset"
   ]
  },
  {
   "cell_type": "markdown",
   "metadata": {},
   "source": [
    "## Import libraries"
   ]
  },
  {
   "cell_type": "code",
   "execution_count": 27,
   "metadata": {
    "ExecuteTime": {
     "end_time": "2017-12-10T00:31:09.829724Z",
     "start_time": "2017-12-10T00:31:09.801191Z"
    }
   },
   "outputs": [],
   "source": [
    "import numpy as np\n",
    "import pandas as pd\n",
    "import numpy as np\n",
    "import matplotlib.pyplot as plt\n",
    "from sklearn import linear_model, datasets\n",
    "from sklearn import preprocessing\n",
    "from sklearn.model_selection import train_test_split\n",
    "from sklearn.metrics import accuracy_score\n",
    "from sklearn.neighbors import KNeighborsClassifier\n",
    "from sklearn.model_selection import GridSearchCV\n",
    "from sklearn.svm import LinearSVC\n",
    "from sklearn.feature_selection import SelectFromModel\n",
    "\n",
    "import numpy as np\n",
    "import pandas as pd\n",
    "import io\n",
    "import os\n",
    "import simplejson\n",
    "from PIL import Image\n",
    "import glob \n",
    "# Imports the Google Cloud client library\n",
    "from google.cloud import vision\n",
    "from google.cloud.vision import types\n",
    "import matplotlib.pyplot as plt\n",
    "import matplotlib.image as mpimg"
   ]
  },
  {
   "cell_type": "markdown",
   "metadata": {},
   "source": [
    "## Convert images into vectors using bag of words techique"
   ]
  },
  {
   "cell_type": "code",
   "execution_count": 3,
   "metadata": {
    "ExecuteTime": {
     "end_time": "2017-12-10T00:22:31.667037Z",
     "start_time": "2017-12-10T00:22:31.185762Z"
    }
   },
   "outputs": [],
   "source": [
    "\n",
    "\n",
    "#This function will read the words present in an image and store the words in\n",
    "# a list.def detect_document(path):\n",
    "\n",
    " #################  Detects document features in an image ################\n",
    "\n",
    "def image_to_list(path):\n",
    "    \"\"\"Detects document features in an image.\"\"\"\n",
    "    client = vision.ImageAnnotatorClient()\n",
    "\n",
    "    with io.open(path, 'rb') as image_file:\n",
    "        content = image_file.read()\n",
    "\n",
    "    image = types.Image(content=content)\n",
    "\n",
    "    response = client.document_text_detection(image=image)\n",
    "    document = response.full_text_annotation\n",
    "\n",
    "    word_list=[]\n",
    "    for page in document.pages:\n",
    "        for block in page.blocks:\n",
    "            for paragraph in block.paragraphs:\n",
    "                for word in paragraph.words:\n",
    "                    mot=''\n",
    "                    for symbol in word.symbols:\n",
    "                        mot=mot+symbol.text\n",
    "                    word_list.append(mot)\n",
    "\n",
    "            \n",
    "            \n",
    "    return word_list\n",
    "\n",
    " ####### Function that transform a list of words into a vector of features ######\n",
    "def list_to_array(X_list,liste_features):\n",
    "    \n",
    "    X_array=np.zeros((1,len(liste_features)))\n",
    "\n",
    "    for i in range(len(liste_features)):\n",
    "        #block_word=liste_features[i]\n",
    "        #for j in range(len(block_word)):\n",
    "        if ( liste_features[i] in X_list):\n",
    "            X_array[0,i]=1\n",
    "    \n",
    "    return X_array\n",
    "\n",
    "    \n",
    "\n",
    "######### this function return a list of all the words in image_list ######\n",
    "def transform_pictures_to_array(n):\n",
    "    image_list = []\n",
    "    compt=1\n",
    "    for filename in glob.glob('mix_images/*.png'):\n",
    "\n",
    "        image_list=image_list+image_to_list(filename)\n",
    "        compt=compt+1\n",
    "        if(compt%200==0):\n",
    "            print(compt/1435*100, \" %\") \n",
    "    return image_list\n",
    "\n",
    "################   this function takes out the numbers of a list and repetitions ##########\n",
    "def RepresentsInt(s):\n",
    "    try: \n",
    "        int(s)\n",
    "        return True\n",
    "    except ValueError:\n",
    "        return False\n",
    "\n",
    "def no_numbers(liste):\n",
    "    new_liste=liste.copy()\n",
    "    liste_int=[]\n",
    "    for i in range(len(liste)):\n",
    "        if(RepresentsInt(new_liste[i])==True):\n",
    "            liste_int.append(new_liste[i])\n",
    "    final_list= list(set(new_liste).difference(set(liste_int)))\n",
    "    return final_list\n",
    "\n",
    "def no_repetition(liste):\n",
    "    return list(set(liste))\n",
    "\n",
    "\n",
    "############# Construct the vectorize data set ##################\n",
    "import re\n",
    "def training_data(liste_features):\n",
    "    l=len(liste_features)\n",
    "    y_train=[]\n",
    "    X_train=np.zeros((1,len(liste_features)))\n",
    "    compt=1\n",
    "    for filename in glob.glob('mix_images/*.png'):\n",
    "        label=filename.rsplit('_', 1)[0]\n",
    "        y_train.append(label.rsplit('/', 2)[1])\n",
    "        #y_train.append(label)\n",
    "\n",
    "        X_list=image_to_list(filename)\n",
    "        X_array=list_to_array(X_list,liste_features)\n",
    "        X_train=np.concatenate((X_train, X_array), axis=0)\n",
    "        # savoir ou j'en suis\n",
    "        compt=compt+1\n",
    "        if(compt%200==0):\n",
    "            print(compt/1435*100,'%')\n",
    "\n",
    "    y_train=np.asarray (y_train)\n",
    "    y_train.reshape(-1,1)\n",
    "\n",
    "    return X_train[1:,:] , y_train\n",
    "\n",
    "\n",
    "\n",
    "########## create label vector ####################################\n",
    "\n",
    "def labels(n):\n",
    "    # list with all the filename in images_test\n",
    "    file_list = []\n",
    "    y=[]\n",
    "    for filename in glob.glob('mix_images/*.png'):\n",
    "        file_list.append(filename)\n",
    "     \n",
    "\n",
    "    for fname in file_list:\n",
    "        label =  fname.rsplit('_', 2)[0]\n",
    "        label=label.rsplit('/', 2)[1]\n",
    "        y.append(label)\n",
    "    y=np.asarray (y)\n",
    "    y.reshape(-1,1)\n",
    "    return y\n",
    "\n",
    "\n"
   ]
  },
  {
   "cell_type": "code",
   "execution_count": 3,
   "metadata": {
    "ExecuteTime": {
     "end_time": "2017-12-06T07:34:03.669772Z",
     "start_time": "2017-12-06T06:53:13.747386Z"
    }
   },
   "outputs": [
    {
     "name": "stdout",
     "output_type": "stream",
     "text": [
      "-------- liste_features ----------\n",
      "13.937282229965156  %\n",
      "27.874564459930312  %\n",
      "41.81184668989547  %\n",
      "55.749128919860624  %\n",
      "69.68641114982579  %\n",
      "83.62369337979094  %\n",
      "97.5609756097561  %\n",
      "1548\n",
      "-------- training array ----------\n",
      "13.937282229965156 %\n",
      "27.874564459930312 %\n",
      "41.81184668989547 %\n",
      "55.749128919860624 %\n",
      "69.68641114982579 %\n",
      "83.62369337979094 %\n",
      "97.5609756097561 %\n",
      "(1434, 1548) (1434,)\n",
      "-------- saving training into csv file ----------\n"
     ]
    }
   ],
   "source": [
    "######################  Saving the data   ##########################################\n",
    "print('-------- Create liste_features and save into text file ----------')    \n",
    "liste_features=no_repetition(no_numbers(transform_pictures_to_array(3)))\n",
    "print('size of liste_feature:',len(liste_features))\n",
    "f = open('liste_feature.txt', 'w')\n",
    "simplejson.dump(liste_features, f)\n",
    "f.close()\n",
    "\n",
    "print('-------- Create a training array ----------')\n",
    "X_train, y_train=training_data(liste_features)\n",
    "print(X_train.shape, y_train.shape)\n",
    "\n",
    "print('-------- saving training into csv file ----------')\n",
    "df_train= pd.DataFrame(data=X_train, index=None ,columns=liste_features)\n",
    "df_label=pd.DataFrame(data=y_train, index=None, columns=['type_skill'])\n",
    "\n",
    "df_train.to_csv('Exo_train_mix.csv')\n",
    "df_label.to_csv('label_exo_train_mix.csv')\n",
    "\n",
    "\n",
    "print(' Size of the dataset: ', X_train.shape,' elements')\n",
    "\n",
    "\n"
   ]
  },
  {
   "cell_type": "code",
   "execution_count": 28,
   "metadata": {
    "ExecuteTime": {
     "end_time": "2017-12-10T00:32:07.857623Z",
     "start_time": "2017-12-10T00:32:07.783068Z"
    }
   },
   "outputs": [],
   "source": [
    "liste_features=[\"commemorative\", \"eleven\", \"divisble\", \"hour\", \"(\", \"free\", \"poet\", \"Do\", \"does\", \"flyers\", \"public\", \"giving\", \"Tucker\", \"need\", \"\\u20ac8\", \"can\", \"grocery\", \"conference\", \"\\u00b0\", \"tables\", \"Fairfax\", \"shipment\", \"advertisements\", \"La\", \"bike\", \"2x\", \"Divina\", \"given\", \"rained\", \"square\", \"homeschoolmath\", \"shuttle\", \"library\", \"network\", \"boxes\", \"J\", \"or\", \"page\", \"putting\", \"shipments\", \"Wayne\", \"collection\", \"Plastic\", \"combination\", \"best\", \"Under\", \"raisins\", \"V49\", \"a\", \")\", \"Michigan\", \"6x6\", \"Campbell\", \"\\u2192\", \"twenty\", \"slices\", \"chip\", \"B\", \"LOS\", \"could\", \"placed\", \"earn\", \"lunch\", \"Sasha\", \"his\", \"disturb\", \"Select\", \"NET\", \"numb\", \"I\", \"books\", \"carry\", \"E\", \"stepped\", \"Personnes\", \"goal\", \"Q2\", \"If\", \"bottom\", \"child\", \"place\", \"now\", \"25x\", \"baseballs\", \"oranges\", \"HHHHHHHHHHH\", \"noticed\", \"contains\", \"du\", \"ordered\", \"Jgroups\", \"Greenwood\", \"S\", \"own\", \"between\", \"closest\", \"divided\", \"x32\", \"nes\", \"photographers\", \"jewelry\", \"bandages\", \"back\", \"Exponent\", \"cubed\", \"setting\", \"charges\", \"shown\", \"partially\", \"prairie\", \"W\", \"colored\", \"Christina\", \"there\", \"represent\", \"lanthanum\", \"Colin\", \"Abby\", \"always\", \"cookie\", \"Check\", \"April\", \"budget\", \"Belle\", \"crates\", \"sale\", \"organizers\", \"Each\", \"ano\", \"been\", \"Menu\", \"promotion\", \"Re\", \"MA1\", \"Adams\", \"number\", \"subtracting\", \"company\", \"tenth\", \"magazine\", \"AA\", \"with\", \"equivalent\", \"sure\", \"beats\", \"Common\", \"scientists\", \"avocado\", \"trees\", \"iv\", \"Worksheet\", \"about\", \"using\", \"performed\", \"transportation\", \"pan\", \"buses\", \"States\", \"cookies\", \"necessary\", \"determine\", \"d\", \"tile\", \"strawberry\", \"grew\", \"tickets\", \"daffodils\", \"as\", \"three\", \"carpenter\", \"once\", \"Besides\", \"brought\", \"Victor\", \"garden\", \"MCCCXIII\", \"Evalua\", \"NO\", \"XXI\", \"days\", \"more\", \"closet\", \"VI\", \"favorite\", \"grade8\", \"Fen\\u00eatre\", \"columns\", \"ticket\", \"Travis\", \"Amanda\", \"\\u05da\", \"hundreds\", \"factors\", \"daisies\", \"No\", \"1b\", \":\", \"XXII\", \"purchase\", \"thirty\", \"Belmont\", \"sheet\", \"radium\", \"Alexa\", \"created\", \"Bloomington\", \"x10\", \"total\", \"divide\", \"Spanish\", \"Eva\", \"her\", \"drives\", \"hat\", \"week\", \"looked\", \"was\", \"statement\", \"made\", \"friends\", \"hospital\", \"posts\", \"drive\", \"worksheets\", \"possible\", \"lowest\", \"ice\", \"product\", \"scrambled\", \"winter\", \"Connor\", \"sandwiches\", \"factorization\", \"q\", \"truck\", \"lacing\", \"dust\", \"binder\", \"seventy\", \"any\", \"numbers\", \"There\", \"Westford\", \"pound\", \"worksheet\", \"people\", \"receive\", \"When\", \"Is\", \"-\", \"gallium\", \"length\", \"22x\", \"living\", \"cans\", \"VX\", \"Explain\", \"camp\", \"brownie\", \"Note\", \"least\", \"fast\", \"thank\", \"hosting\", \"Carrie\", \"Quick\", \"It\", \"subway\", \"Wesley\", \"only\", \"V15\", \"science\", \"bulb\", \"LID\", \"underlined\", \"like\", \"A\", \"man\", \"Grade\", \"greater\", \"among\", \"Middletown\", \"birthday\", \"have\", \"png\", \"liter\", \"shelved\", \"DETERIO\", \"angry\", \"computer\", \"same\", \"triangle\", \"airplane\", \"quantities\", \"too\", \"Sandra\", \"colony\", \"local\", \"treating\", \"School\", \"Surprisingly\", \"Hundreds\", \"goldfish\", \"Algorithm\", \"then\", \"cream\", \"Go\", \"Mrs\", \"owes\", \"Compute\", \"organized\", \"color\", \"creates\", \"apply\", \"upcoming\", \"thirteen\", \"nationwide\", \"go\", \"corporation\", \"end\", \"hold\", \"Jaunts\", \"did\", \"squared\", \"marching\", \"Henry\", \"Rockport\", \"Solve\", \"expression\", \"snack\", \"Lakewood\", \"lilies\", \"until\", \"gym\", \"sixty\", \"thinking\", \"puts\", \"minimum\", \"strawberries\", \"posting\", \"easy\", \"algorithm\", \"b\", \"Aide\", \"perfect\", \"sprinkles\", \"receives\", \"photographer\", \"1x\", \"iii\", \"paint\", \"golf\", \"ship\", \"Karlene\", \"poems\", \"decides\", \"Use\", \"so\", \"Six\", \"Eli\", \"pdf\", \"13x\", \"sheets\", \"list\", \"at\", \"Before\", \"Cara\", \"later\", \"Modifier\", \"j\", \"Sadie\", \"Weston\", \"strikes\", \"replace\", \"zebra\", \"fried\", \"@\", \"well\", \"\\u071d\\u071d\\u072c\\u0710\", \"before\", \"pizzas\", \"Orchest\", \"has\", \"repres\", \"give\", \"/\", \"By\", \"owns\", \"D\", \"beautiful\", \"waterfall\", \"peanut\", \"Which\", \"necklaces\", \"Round\", \"3x4\", \"cucumber\", \"Answer\", \"radioactive\", \"different\", \"finds\", \"miles\", \"stored\", \"wants\", \"children\", \"struck\", \"from\", \"attendees\", \"passes\", \"Wellness\", \"covers\", \"crackers\", \"packs\", \"who\", \"ii\", \"estate\", \"game\", \"shows\", \"MIX\", \"integers\", \"reasoned\", \"orders\", \"hundredths\", \"sawed\", \"top\", \"characters\", \"Between\", \"Newton\", \"TV\", \"Where\", \"journals\", \"exactly\", \"current\", \"PO\", \"An\", \"hike\", \"supply\", \"school\", \"XVIII\", \"&\", \"2x2x2x2\", \"hornets\", \"appropriate\", \"blocks\", \"airport\", \"6th\", \"your\", \"Kevin\", \"Three\", \"deep\", \"flavors\", \"encourage\", \"centimeters\", \"share\", \"walk\", \"58x\", \"laps\", \"July\", \"z\", \"batches\", \"Divide\", \"restaurant\", \"Jarrod\", \"Zane\", \"should\", \"they\", \"check\", \"these\", \"Reco\", \"filling\", \"every\", \"coincidence\", \"common\", \"O\", \"Form\", \"Scientific\", \"just\", \"Roman\", \"adding\", \"following\", \"Reid\", \"butter\", \"and\", \"PDFs\", \"Japanese\", \"available\", \"will\", \"fish\", \"platters\", \"Mars\", \"court\", \"Fairview\", \"serving\", \"scientific\", \"Miss\", \"At\", \"rope\", \"flavor\", \"32x\", \"10\\u00b0\", \"n\", \"ounce\", \"an\", \"want\", \"last\", \"decided\", \"Greatest\", \"exponents\", \"represents\", \"needed\", \"unit\", \"night\", \"diamond\", \"necklace\", \"IXL\", \"read\", \"many\", \"notebooks\", \"Standard\", \"Hammond\", \"card\", \"person\", \"printed\", \"file\", \"greeting\", \"arranges\", \"equally\", \"coupons\", \"start\", \"\\u0e27\", \"contestant\", \"baseball\", \"the\", \"CXLVI\", \"5x5x5x5x5\", \"angelfish\", \"loaves\", \"<\", \"are\", \"per\", \"XXXIII\", \"coolers\", \"crawl\", \"Janet\", \"opera\", \"first\", \"difference\", \"conditions\", \"Brody\", \"III\", \"%\", \"together\", \"medium\", \"race\", \"plates\", \"addition\", \"visual\", \"work\", \"Key\", \"Load\", \"its\", \"tees\", \"literary\", \"meet\", \"Sports\", \"Tim\", \"choice\", \"Ellie\", \"nobody\", \"one\", \"Lake\", \"Blue\", \"96\\u00a3\", \"Seaside\", \"form\", \"sum\", \"approximate\", \"other\", \"than\", \"paths\", \"earns\", \"battery\", \"puppy\", \"Gwen\", \"board\", \"mathx\", \"cm\", \"OG\", \"Y\", \"numerical\", \"when\", \"long\", \"Winchester\", \"cases\", \"cards\", \"classes\", \"what\", \"visit\", \"All\", \"Second\", \"route\", \"Tests\", \"The\", \"honey\", \"left\", \"Express\", \"stationery\", \"Utees\", \"HHHHHHHHH\", \"simplifying\", \"Crackers\", \"Estimate\", \"Lowell\", \"watering\", \"paper\", \"produced\", \"poets\", \"journal\", \"pet\", \"facility\", \"guess\", \"Georgetown\", \"They\", \"blueberry\", \"campers\", \"\\u0728\", \"storage\", \"TVs\", \"issue\", \"Lanberry\", \"Change\", \"park\", \"question\", \"locations\", \"times\", \"daffodil\", \"Lancaster\", \"exponential\", \"S\\u00e9curis\\u00e9\", \"costs\", \"blank\", \"plans\", \"Earth\", \"Subtract\", \"stacks\", \"Patrick\", \"9x9x9x9x9\", \"Opieces\", \"CS\", \"negative\", \"eggs\", \"bread\", \"smallest\", \"sold\", \"but\", \"binders\", \"Ronald\", \"away\", \">\", \"www\", \"\\u00a3\\u00a3\", \"tanks\", \"snowed\", \"lengths\", \"cymbals\", \"calculator\", \"Afficher\", \"ride\", \"MATHX\", \"p\", \"climbing\", \"Supplies\", \"igit\", \"\\\\\", \"Newberry\", \"set\", \"performing\", \"62x\", \"Jundershirts\", \"He\", \"tulip\", \"Spencer\", \"Math\", \"buy\", \"pencils\", \"preparing\", \"Kristen\", \"sample\", \"Multiply\", \"How\", \"fluorine\", \"row\", \"Audible\", \"all\", \"creation\", \"display\", \"Coffee\", \"rectangular\", \"word\", \"sleep\", \"juice\", \"middle\", \"V\", \"Euclid\", \"XXXVII\", \"DO\", \"Nine\", \"2x5\", \"X\", \"took\", \"undershirts\", \"convenient\", \"create\", \"years\", \"seafood\", \"greatest\", \"grades\", \"P\", \"community\", \"cars\", \"billion\", \"Wilson\", \"Father\", \"blue\", \"fence\", \"by\", \"two\", \"division\", \"Rewrite\", \"Millersburg\", \"batch\", \"print\", \"manufacturer\", \"gum\", \"mix\", \"pages\", \"Rita\", \"include\", \"basketballs\", \"March\", \"music\", \"oven\", \"lo\", \"orange\", \"order\", \"pattern\", \"products\", \"x34\", \"studying\", \"Gear\", \"eight\", \"needs\", \"candy\", \"ants\", \"rubber\", \"streetlights\", \";\", \"finish\", \"rounded\", \"built\", \"Then\", \"prime\", \"pounds\", \"Circle\", \"worth\", \"Exponents\", \"large\", \"sitting\", \"wrote\", \"servings\", \"aquariums\", \"XXE\", \"'\", \"Factor\", \"day\", \"Ugroups\", \"Troy\", \"slice\", \"it\", \"kilometers\", \"over\", \"each\", \"Problem\", \"positive\", \"English\", \"store\", \"Annie\", \"Q\", \"coordinate\", \"Somerville\", \"writing\", \"fills\", \"individual\", \"ischool\", \"shipping\", \"bowls\", \"rain\", \"red\", \"divisible\", \"celery\", \"donate\", \"teachers\", \"section\", \"colors\", \"tank\", \"pepper\", \"Play\", \"inches\", \"decimal\", \"no\", \"cleaning\", \"digits\", \"money\", \"non\", \"use\", \"advantage\", \"electrician\", \"is\", \"Jkm\", \"completed\", \"games\", \"factor\", \"would\", \"close\", \"aquarium\", \"Ale\", \"packages\", \"ones\", \"furniture\", \"Complete\", \"snowflakes\", \"chocolate\", \"Evalu\", \"identical\", \"dish\", \"Using\", \"making\", \"Uservings\", \"sweeps\", \"category\", \"w\", \"i\", \"Meanwhile\", \"airplanes\", \"counting\", \"bacteria\", \"yellow\", \"bracelet\", \"stack\", \"c\", \"What\", \"plate\", \"straws\", \"\\u04d8\\u0440\\u0456\\u043b\\u0430\", \"lab\", \"rows\", \"G\", \"band\", \"fees\", \"picture\", \"Silvergrove\", \"courts\", \"Jmi\", \"peanuts\", \"groups\", \"grade\", \"table\", \"ball\", \"yttrium\", \"poached\", \"collect\", \"Paint\", \"Perry\", \"grows\", \"snacks\", \"comes\", \"coeur\", \"tomato\", \"runs\", \"makes\", \"Haley\", \"f\", \"X8\", \"breakfast\", \"math\", \"Yes\", \"Owords\", \"chain\", \"ad\", \"6x6x6x6x6\", \"teacher\", \"[\", \"Dayton\", \"Determine\", \"students\", \"ate\", \"equal\", \"coupon\", \"g\", \"base\", \"3x3\", \"come\", \"Last\", \"Lamar\", \"Ones\", \"Springfield\", \"\\u0715\", \"Favoris\", \"swarm\", \"find\", \"soda\", \"taking\", \"Hampton\", \"papers\", \"2\\u00af2\", \"zb\", \"block\", \"Choose\", \"Halloween\", \"fiction\", \"registered\", \"son\", \"shop\", \"nearest\", \"plant\", \"biked\", \"Compare\", \"shelving\", \"C\", \"nine\", \"places\", \"David\", \"driver\", \"take\", \"Arcadia\", \"five\", \"Public\", \"earned\", \"throughout\", \"television\", \"Dover\", \"tape\", \"hundred\", \"represei\", \"currently\", \"bookcase\", \"time\", \"stores\", \"population\", \"run\", \"Uplates\", \"Emir\", \"session\", \"Pancho\", \"correct\", \"type\", \"Whole\", \"u\", \"One\", \"Stafford\", \"learn\", \"under\", \"categories\", \"On\", \"countries\", \"write\", \"boys\", \"km\", \"photographed\", \"seven\", \"Every\", \"Fill\", \"bedroom\", \"backpacks\", \"printers\", \"chart\", \"shops\", \"if\", \"fill\", \"After\", \"puzzles\", \"7x7x7x7\", \"sections\", \"XZ751\", \"competing\", \"bears\", \"aunts\", \"neither\", \"Notation\", \"whose\", \"she\", \"parte\", \"root\", \"Late\", \"V43\", \"size\", \"Darren\", \"them\", \"Manchester\", \"space\", \"Thousands\", \"Au\", \"farmer\", \"leaves\", \"written\", \"spend\", \"sentence\", \"used\", \"THHHHHHHHHHH\", \"Fichier\", \"Kingwood\", \"#\", \"OTens\", \"rounding\", \"scale\", \"numeral\", \"composite\", \"package\", \"both\", \"bulbs\", \"Ke\", \"whereas\", \"Exponential\", 'tests', \"Stop\", \"town\", \"in\", \"early\", \"questions\", \"hard\", \"employee\", \"standard\", \"containers\", \"airline\", \"^\", \"answered\", \"babysits\", \"buys\", \"Z\", \"ninety\", \"Imi\", \"party\", \"eighty\", \"supplies\", \"Converting\", \"Liam\", \"hours\", \"GCF\", \"able\", \"whole\", \"Why\", \"copies\", \"tiles\", \"In\", \"Evaluate\", \"takes\", \"sign\", \"sell\", \"correctly\", \"agent\", \"dinner\", \"evenly\", \"planet\", \"bus\", \"seats\", \"names\", \"yes\", \"Simplify\", \"bottles\", \"Kendra\", \"parking\", \"lake\", \"car\", \"Start\", \"Omi\", \"m\", \"he\", \"combined\", \"ruthenium\", \"out\", \"high\", \"Write\", \"watered\", \"round\", \"pizza\", \"Lawson\", \"answer\", \"weigh\", \"Five\", \"classmates\", \"envelopes\", \"Burlington\", \"snow\", \"folder\", \"ads\", \"pies\", \"new\", \"group\", \"Prunier\", \"poetry\", \"house\", \"insects\", \"Oliver\", \"Type\", \"Dustin\", \"meters\", \"grant\", \"?\", \"e\", \"going\", \"box\", \"trick\", \"]\", \"next\", \"video\", \"Buchanan\", \"club\", \"containing\", \"erasers\", \"While\", \"four\", \"\\u201c\", \"Could\", \"latest\", \"crate\", \"approximately\", \"TH\", \"Elsa\", \"personal\", \"send\", \"year\", \"dealership\", \"whether\", \"food\", \"lists\", \"getting\", \"into\", \"cost\", \"plastic\", \"+\", \"remains\", \"carrot\", \"pieces\", \"student\", \"name\", \"get\", \"pie\", \"being\", \"IV\", \"raised\", \"Oxford\", \"Im\", \"U\", \"Greenville\", \"reasoning\", \"lots\", \"beginning\", \"Please\", \"emerald\", \"during\", \"competitor\", \"batteries\", \"exponent\", \"Put\", \"instructed\", \"split\", \"kind\", \"toys\", \"\\u2013\", \",\", \"fifty\", \"Farid\", \"having\", \"wasted\", \"bands\", \"class\", \"A1\", \"program\", \"example\", \"were\", \"Fitness\", \"cabins\", \"o\", \"second\", \"below\", \"Order\", \"bought\", \"true\", \"$\", \"summer\", \"6X\", \"Oak\", \"XXVIII\", \"cells\", \"XVII\", \"3x3x3x3\", \"Tuesday\", \"Basics\", \"recycling\", \"actual\", \"course\", \"factory\", \"after\", \"swabs\", \"She\", \"points\", \"particular\", \"Brad\", \"break\", \"mussels\", \"forma\", \"sent\", \"r\", \"List\", \"acres\", \"sticks\", \"produce\", \"*\", \"power\", \"CA\", \"real\", \"pairs\", \"expressions\", \"=\", \"cabin\", \"multiply\", \"rolls\", \"tei\", \"planted\", \"Q1\", \"know\", \"evaluate\", \"}\", \"\\u00a9\", \"sets\", \"|\", \"pair\", \"abroad\", \"distance\", \"oo\", \"Jeu\", \"buying\", \"wishes\", \"sixteen\", \"riders\", \"To\", \"bake\", \"John\", \"Jcups\", \"O\\u00b0\", \"Pencils\", \"sessions\", \"Expanded\", \"march\", \"garage\", \"formed\", \"Acce\", \"Middle\", \"half\", \"electrical\", \"off\", \"thousands\", \"weighed\", \"project\", \"babysitting\", \"Jinches\", \"words\", \"up\", \"Dana\", \"Add\", \"month\", \"doctors\", \"Anas\", \"tens\", \"na\", \"assigned\", \"doubles\", \"woven\", \"Cedarburg\", \"You\", \"12\\u00d710\", \"sells\", \"net\", \"numbered\", \"Allenville\", \"doing\", \"notation\", \"repli\", \"explain\", \"computers\", \"solution\", \"business\", \"upset\", \"test\", \"s\", \"pack\", \"3042x1\", \"showed\", \"Paper\", \"bee\", \"offices\", \"beach\", \"Two\", \"Centerville\", \"definition\", \"Britney\", \"tournament\", \".\", \"six\", \"reunion\", \"Anne\", \"4x4\", \"glass\", \"way\", \"Grove\", \"tall\", \"zeroth\", \"yesterday\", \"writes\", \"hiked\", \"big\", \"anthill\", \"estimate\", \"filled\", \"XIV\", \"roll\", \"Brandy\", \"weeks\", \"him\", \"million\", \"missing\", \"Time\", \"how\", \"ten\", \"houses\", \"boiled\", \"far\", \"Sixth\", \"sandwich\", \"XII\", \"again\", \"metal\", \"t\", \"EE\", \"VII\", \"spoons\", \"Both\", \"lids\", \"taller\", \"LE\", \"digit\", \"United\", \"service\", \"Delay\", \"tenths\", \"untouched\", \"of\", \"libraries\", \"had\", \"sons\", \"tulips\", \"portioned\", \"Michael\", \"seventeen\", \"x\", \"\\u00b7\", \"logic\", \"chowder\", \"Mark\", \"Arrange\", \"Mary\", \"volleyball\", \"bracelets\", \"Rosa\", \"Brenna\", \"their\", \"10x\", \"\\u041a\\u0435\", \"much\", \"piece\", \"girls\", \"across\", \"XX\", \"expanded\", \"th\", \"city\", \"study\", \"gift\", \"estimated\", \"\\u00d3\", \"\\u2022\", \"Library\", \"So\", \"someone\", \"that\", \"caused\", \"sales\", \"not\", \"Igrams\", \"Now\", \"Sparrowtown\", \"less\", \"show\", \"university\", \"Another\", \"Jackson\", \"predators\", \"9X\", \"Angellist\", \"shortest\", \"selling\", \"newspaper\", \"ITI\", \"gives\", \"shelves\", \"WISE\", \"appetizers\", \"called\", \"Give\", \"bags\", \"nest\", \"Find\", \"complete\", \"Corporation\", \"fraction\", \"convert\", \"6M\", \"thousand\", \"for\", \"represented\", \"types\", \"N\", \"companies\", \"lin\", \"soil\", \"Negative\", \"T\", \"on\", \"Dave\", \"fit\", \"multiple\", \"sand\", \"storm\", \"make\", \"why\", \"sugar\", \"be\", \"may\", \"zl\\u20ac\", \"For\", \"flowers\", \"{\", \"bookstore\", \"keeping\", \"y\", \"uncles\", \"Example\", \"emeralds\", \"hornet\", \"charging\", \"cooler\", \"flower\", \"Washington\", \"carries\", \"result\", \"life\", \"largest\", \"minutes\", \"case\", \"uses\", \"Draw\", \"brownies\", \"Tens\", \"cut\", \"put\", \"Stationery\", \"Monday\", \"coffee\", \"build\", \"ca\", \"mi\", \"ounces\", \"wood\", \"Summerfield\", \"morning\", \"trillion\", \"do\", \"Apparel\", \"creating\", \"Kensington\", \"4x4x4\", \"Submit\", \"folders\", \"\\u30e3\\u30fc\", \"another\", \"which\", \"while\", \"baking\", \"post\", \"clam\", \"pass\", \"Gina\", \"balls\", \"cheese\", \"https\", \"Sunday\", \"\\u0e28\", \"plan\", \"value\", \"A9\", \"_\", \"pn\", \"cups\", \"grams\", \"First\", \"maximum\", \"cotton\", \"without\", \"this\", \"4x\", \"Saturday\", \"submarine\", \"Chrome\", \"cover\", \"5b\", \"forty\", \"!\", \"help\", \"recycle\", \"tadpoles\", \"Historique\", \"schools\", \"family\", \"future\", \"amount\", \"works\", \"trava\", \"8x\", \"must\", \"none\", \"to\", \"bases\", \"Monica\", \"some\", \"Practice\", \"pictures\", \"passengers\", \"you\"]"
   ]
  },
  {
   "cell_type": "markdown",
   "metadata": {},
   "source": [
    "# Preprocessing +visualization"
   ]
  },
  {
   "cell_type": "markdown",
   "metadata": {},
   "source": [
    "## preprocessing"
   ]
  },
  {
   "cell_type": "code",
   "execution_count": 14,
   "metadata": {
    "ExecuteTime": {
     "end_time": "2017-12-10T00:24:03.549942Z",
     "start_time": "2017-12-10T00:24:03.526244Z"
    }
   },
   "outputs": [],
   "source": [
    "def label_number(liste_label, Y):\n",
    "    Y_label=Y.copy()\n",
    "    \n",
    "    for i in range(len(Y)):\n",
    "        Y_label[i,0]=liste_label.index(Y[i,0])\n",
    "        \n",
    "    return Y_label\n",
    "\n",
    "# This function removes the useless features of liste_features\n",
    "def reduction_list(liste_id_remove, liste_features):\n",
    "    \n",
    "    reduced_list=[i for j, i in enumerate(liste_features) if j not in liste_id_remove]\n",
    "    return reduced_list\n",
    "\n",
    "def feature_to_remove(coef):\n",
    "    list_id=[]\n",
    "    for i in range(coef.shape[1]):\n",
    "        if (np.linalg.norm(coef[:,i])<1e-5):\n",
    "            list_id.append(i)\n",
    "    return list_id\n",
    "    \n",
    "    "
   ]
  },
  {
   "cell_type": "code",
   "execution_count": 15,
   "metadata": {
    "ExecuteTime": {
     "end_time": "2017-12-10T00:24:05.141206Z",
     "start_time": "2017-12-10T00:24:03.753055Z"
    }
   },
   "outputs": [
    {
     "name": "stdout",
     "output_type": "stream",
     "text": [
      "============= Import Data =================\n",
      " initial size liste_features : 1548\n",
      "============ GET RID OF WORDS THAT APPEAR LESS THAN 3 TIMES ============\n",
      " new size liste_features: 481\n",
      "========== KEEPING THE BEST FEATURES USING L1 NORM WITH LINEAR SVC ==========\n",
      "Shape of X :  (1434, 481)\n",
      "Shape of X after feature reduction:  (1434, 253)\n",
      "\n",
      "========== REMOVED FEATURES ============== \n",
      "\n",
      "\\  ['need', 'can', 'shipment', 'given', 'rained', 'boxes', 'shipments', 'Wayne', 'combination', 'could', 'lunch', 'his', 'I', 'now', 'HHHHHHHHHHH', 'Jgroups', 'between', 'charges', 'cookie', 'subtracting', 'sure', 'cookies', 'No', 'purchase', 'thirty', 'her', 'week', 'made', 'friends', 'q', 'any', 'people', 'When', 'length', 'fast', 'science', 'like', 'Middletown', 'have', 'colony', 'local', 'color', 'corporation', 'end', 'hold', 'gym', 'puts', 'b', 'ship', 'decides', 'so', 'at', '@', 'before', 'give', 'different', 'miles', 'passes', 'Wellness', 'packs', 'who', 'ii', 'game', 'PO', 'An', 'school', 'blocks', 'restaurant', 'adding', 'flavor', 'want', 'last', 'represents', 'Standard', 'card', 'person', 'start', 'per', 'first', 'difference', 'plates', 'its', 'sum', 'than', 'Y', 'when', 'long', 'cards', 'route', 'Lowell', 'paper', 'produced', 'sold', 'but', '>', 'Newberry', 'set', 'row', 'V', 'took', 'years', 'March', 'candy', 'sitting', \"'\", 'it', 'kilometers', 'positive', 'rain', 'donate', 'colors', 'no', 'use', 'would', 'identical', 'w', 'Meanwhile', 'bacteria', 'straws', 'grade', 'Perry', 'makes', 'Yes', 'chain', 'ad', 'teacher', 'come', 'find', 'Choose', 'C', 'places', 'take', 'currently', 'time', 'stores', 'population', 'type', 'One', 'On', 'km', 'seven', 'if', 'fill', 'After', 'competing', 'she', 'written', 'spend', 'used', 'package', 'both', 'town', 'party', 'eighty', 'Why', 'sell', 'seats', 'yes', 'Omi', 'combined', 'out', 'round', 'ads', 'group', 'house', 'Type', 'e', ']', 'While', 'four', 'approximately', 'send', 'year', 'food', 'into', 'plastic', 'pieces', 'Greenville', 'during', 'kind', '–', 'fifty', 'example', 'Fitness', 'bought', 'Tuesday', 'after', 'points', 'pairs', 'multiply', 'rolls', '}', 'sets', 'buying', 'up', 'month', 'You', 'yesterday', 'filled', 'missing', 'far', 'spoons', 'had', 'their', 'piece', 'city', 'Now', 'less', 'show', 'shortest', 'newspaper', 'types', 'For', 'life', 'minutes', 'uses', 'cut', 'Monday', 'mi', 'while', 'balls', '_', 'grams', 'forty', '8x', 'must', 'none', 'some']\n",
      "\n",
      "========== FINAL SIZE OF X ===============\n",
      "size of X_train: (1147, 253)\n",
      "size of X_test: (287, 253)\n",
      "\n",
      " The list of labels is:\n",
      " ['A4', 'E1', 'A5', 'D', 'C1', 'E2', 'D2', 'A3', 'D5', 'G4', 'F7', 'C4', 'D1', 'D9', 'C3', 'D7', 'E9', 'B8', 'F9', 'F4', 'D4', 'A6', 'E5', 'F5', 'E6', 'G3', 'A2', 'E3', 'B3', 'E8', 'E4', 'B2', 'D8', 'D10', 'A1', 'F8', 'B4', 'C5', 'D6', 'B1', 'F2', 'G1', 'B6', 'C6', 'B5', 'C2', 'E7', 'G2', 'F3', 'B7', 'F6'] \n",
      "\n"
     ]
    }
   ],
   "source": [
    "#import the data\n",
    "print(\"============= Import Data =================\")\n",
    "df_train=pd.read_csv('Exo_train_mix.csv')\n",
    "df_train=df_train.drop(df_train.columns[0], axis=1)\n",
    "df_label=pd.read_csv('label_exo_train_mix.csv')\n",
    "df_label=df_label.drop(df_label.columns[0], axis=1)\n",
    "print( \" initial size liste_features :\", len(liste_features))\n",
    "\n",
    "print('============ GET RID OF WORDS THAT APPEAR LESS THAN 3 TIMES ============')\n",
    "# get ride of words that appear less than 3 times\n",
    "words=df_train.columns.values\n",
    "drop=[]\n",
    "drop_id=[]\n",
    "for i in range(len(words)):\n",
    "    if (sum(df_train[str(words[i])])<3):\n",
    "        drop.append(words[i])\n",
    "        liste_features.remove(words[i])\n",
    "        drop_id.append(i)\n",
    "    \n",
    "print( \" new size liste_features:\", len(liste_features))\n",
    "\n",
    "df_train=df_train.drop(drop, axis=1) \n",
    "\n",
    "X= df_train.as_matrix()\n",
    "Y=df_label.as_matrix()\n",
    "liste_label=  list(set(Y.reshape(1,len(Y))[0]))\n",
    "Y_label=label_number(liste_label, Y)\n",
    "\n",
    "# ################# Keep the best features #######################\n",
    "print('========== KEEPING THE BEST FEATURES USING L1 NORM WITH LINEAR SVC ==========')\n",
    "\n",
    "lsvc=LinearSVC(C=0.3, penalty=\"l1\", dual=False).fit(X, Y.ravel())\n",
    "model = SelectFromModel(lsvc, prefit=True)\n",
    "print('Shape of X : ', X.shape)\n",
    "X = model.transform(X)\n",
    "print('Shape of X after feature reduction: ', X.shape)\n",
    "\n",
    "liste_id_remove=feature_to_remove(lsvc.coef_)\n",
    "features_removed=[]\n",
    "for id in liste_id_remove:\n",
    "    features_removed.append(liste_features[id])\n",
    "print('\\n========== REMOVED FEATURES ============== \\n\\n\\ ',features_removed)\n",
    "\n",
    "liste_features=reduction_list(liste_id_remove, liste_features)\n",
    "\n",
    "#########################\n",
    "X_train, X_test, Y_train, Y_test = train_test_split(X, Y, test_size=0.20, random_state=42)\n",
    "\n",
    "print('\\n========== FINAL SIZE OF X ===============')\n",
    "print('size of X_train:', X_train.shape)\n",
    "print('size of X_test:', X_test.shape)      \n",
    "print('\\n The list of labels is:\\n',liste_label,'\\n')\n"
   ]
  },
  {
   "cell_type": "markdown",
   "metadata": {},
   "source": [
    "## visualize the Data"
   ]
  },
  {
   "cell_type": "code",
   "execution_count": 16,
   "metadata": {
    "ExecuteTime": {
     "end_time": "2017-12-10T00:24:09.268178Z",
     "start_time": "2017-12-10T00:24:08.887656Z"
    }
   },
   "outputs": [
    {
     "name": "stdout",
     "output_type": "stream",
     "text": [
      "-------PCA-------------\n"
     ]
    },
    {
     "data": {
      "image/png": "[encoded data removed]",
      "text/plain": [
       "<matplotlib.figure.Figure at 0x103f22b00>"
      ]
     },
     "metadata": {},
     "output_type": "display_data"
    }
   ],
   "source": [
    "### we are going to dimish the dimension of the data by using PCA:\n",
    "from sklearn.decomposition import PCA\n",
    "from matplotlib.colors import ListedColormap\n",
    "print(\"-------PCA-------------\")\n",
    "\n",
    "pca = PCA(n_components=2)\n",
    "#pca.fit(X_train)\n",
    "X_reduced=pca.fit_transform(X_train)\n",
    "\n",
    "Y_train_label=label_number(liste_label, Y_train)\n",
    "plt.scatter(X_reduced[:,0],X_reduced[:,1], c=Y_train_label, s=15)\n",
    "plt.show()"
   ]
  },
  {
   "cell_type": "markdown",
   "metadata": {},
   "source": [
    "# Supervised Learning"
   ]
  },
  {
   "cell_type": "markdown",
   "metadata": {},
   "source": [
    "## Training"
   ]
  },
  {
   "cell_type": "code",
   "execution_count": 37,
   "metadata": {
    "ExecuteTime": {
     "end_time": "2017-12-10T01:19:17.151543Z",
     "start_time": "2017-12-10T01:19:17.138042Z"
    }
   },
   "outputs": [],
   "source": [
    "def knn_plot(liste_k, X_train, Y_train, X_test, Y_test):\n",
    "    accuracy=[]\n",
    "    for k in liste_k:\n",
    "        neigh = KNeighborsClassifier(n_neighbors=k)\n",
    "        neigh.fit(X_train, Y_train)\n",
    "        Y_predict=np.asarray(neigh.predict(X_test)).reshape(-1,1)\n",
    "        accuracy.append(accuracy_score(Y_predict,Y_test))\n",
    "    plt.plot(liste_k, accuracy, label=' Accuracy function of k')\n",
    "    plt.xlabel('number of neighbors k')\n",
    "    plt.ylabel('Accuracy')\n",
    "    plt.legend()\n",
    "    plt.show()"
   ]
  },
  {
   "cell_type": "code",
   "execution_count": 38,
   "metadata": {
    "ExecuteTime": {
     "end_time": "2017-12-10T01:20:00.226717Z",
     "start_time": "2017-12-10T01:19:24.012238Z"
    }
   },
   "outputs": [
    {
     "name": "stdout",
     "output_type": "stream",
     "text": [
      "--------- SVM Classifier --------------\n",
      "\n",
      "best parameters: {'C': 150, 'kernel': 'rbf'}\n",
      "0.878048780488\n",
      "------------ KNN classifier --------\n",
      "\n",
      "best parameters: {'n_neighbors': 1}\n",
      "0.843205574913\n"
     ]
    },
    {
     "name": "stderr",
     "output_type": "stream",
     "text": [
      "/Library/Frameworks/Python.framework/Versions/3.6/lib/python3.6/site-packages/ipykernel_launcher.py:5: DataConversionWarning: A column-vector y was passed when a 1d array was expected. Please change the shape of y to (n_samples, ), for example using ravel().\n",
      "  \"\"\"\n"
     ]
    },
    {
     "data": {
      "image/png": "[encoded data removed]",
      "text/plain": [
       "<matplotlib.figure.Figure at 0x10bbc2dd8>"
      ]
     },
     "metadata": {},
     "output_type": "display_data"
    },
    {
     "name": "stdout",
     "output_type": "stream",
     "text": [
      "------------ Logistic Classification --------\n",
      "\n",
      "best parameters: {'C': 10}\n",
      "0.891986062718\n"
     ]
    }
   ],
   "source": [
    "#SVM classifier : grid_search\n",
    "from sklearn import svm\n",
    "from sklearn.svm import SVC\n",
    "from sklearn.linear_model import LogisticRegression\n",
    "from sklearn.neural_network import MLPClassifier\n",
    "\n",
    "print('--------- SVM Classifier --------------\\n')\n",
    "parameters = {'kernel':('linear', 'rbf'), 'C':[  1,  10, 50, 100,150, 300]}\n",
    "svc = svm.SVC()\n",
    "clf = GridSearchCV(svc, parameters)\n",
    "y_train=Y_train.reshape(1,len(Y_train))[0]\n",
    "clf.fit(X_train, y_train)\n",
    "\n",
    "Y_predict=np.asarray(clf.predict(X_test)).reshape(-1,1)\n",
    "\n",
    "#print(np.concatenate((Y_predict,Y_test),axis=1))\n",
    "print('best parameters:',clf.best_params_)\n",
    "print(accuracy_score(Y_predict,Y_test))\n",
    "\n",
    "print('------------ KNN classifier --------\\n')\n",
    "neigh = KNeighborsClassifier()\n",
    "parameters = {'n_neighbors':[k for k in range(1,20)]}\n",
    "neigh2 = GridSearchCV(neigh, parameters)\n",
    "neigh2.fit(X_train, y_train)\n",
    "Y_predict=np.asarray(neigh2.predict(X_test)).reshape(-1,1)\n",
    "print('best parameters:',neigh2.best_params_)\n",
    "print(accuracy_score(Y_predict,Y_test))\n",
    "liste_k=[k for k in range(1,40)]\n",
    "knn_plot(liste_k, X_train, Y_train, X_test, Y_test)\n",
    "\n",
    "print('------------ Logistic Classification --------\\n')\n",
    "log =LogisticRegression()\n",
    "parameters = {'C':[10**k for k in range(-3,4)]}\n",
    "log = GridSearchCV(log, parameters)\n",
    "log.fit(X_train, y_train)\n",
    "\n",
    "Y_predict=np.asarray(log.predict(X_test)).reshape(-1,1)\n",
    "print('best parameters:',log.best_params_)\n",
    "print(accuracy_score(Y_predict,Y_test))\n",
    "\n",
    "# print('------------ Neural Network Classification --------\\n')\n",
    "# net =MLPClassifier()\n",
    "# parameters = {'hidden_layer_sizes':[(100,1),(100,2), (100,3), (50,1), (50,2), (20,1), (20,2)],'max_iter':[3000]}\n",
    "# net = GridSearchCV(net, parameters)\n",
    "# net.fit(X_train, y_train)\n",
    "\n",
    "# Y_predict=np.asarray(net.predict(X_test)).reshape(-1,1)\n",
    "# print(accuracy_score(Y_predict,Y_test))\n",
    "\n",
    "\n",
    "\n"
   ]
  },
  {
   "cell_type": "markdown",
   "metadata": {
    "ExecuteTime": {
     "end_time": "2017-12-06T18:03:44.972087Z",
     "start_time": "2017-12-06T18:03:44.969150Z"
    }
   },
   "source": [
    "## Predict an exercise's class and give one similar"
   ]
  },
  {
   "cell_type": "markdown",
   "metadata": {},
   "source": [
    "In this section we are going to give an exercise from our dataset and try to predict it. We will then take a random 6th grade exercise from the internet et see if our algorithm is capable of giving a similar exercise from our dataset"
   ]
  },
  {
   "cell_type": "code",
   "execution_count": 18,
   "metadata": {
    "ExecuteTime": {
     "end_time": "2017-12-10T00:24:42.124299Z",
     "start_time": "2017-12-10T00:24:42.101158Z"
    }
   },
   "outputs": [],
   "source": [
    "#this function gives an exercises with a specific skill \n",
    "import random\n",
    "def give_exercise_skill(skill):\n",
    "    list_exo=[]\n",
    "    for filename in glob.glob('mix_images/*.png'):\n",
    "        label=filename.rsplit('_', 1)[0]\n",
    "        label=label.rsplit('/', 2)[1]\n",
    "        if (label==skill):\n",
    "            list_exo.append(filename)\n",
    "            \n",
    "    img=mpimg.imread(random.choice(list_exo))\n",
    "    imgplot = plt.imshow(img)\n",
    "    plt.show()       \n",
    "              "
   ]
  },
  {
   "cell_type": "code",
   "execution_count": 25,
   "metadata": {
    "ExecuteTime": {
     "end_time": "2017-12-10T00:28:43.376307Z",
     "start_time": "2017-12-10T00:28:42.021958Z"
    }
   },
   "outputs": [
    {
     "name": "stdout",
     "output_type": "stream",
     "text": [
      "=============  INITIAL IMAGE =============\n"
     ]
    },
    {
     "data": {
      "image/png": "[encoded data removed]",
      "text/plain": [
       "<matplotlib.figure.Figure at 0x10c055828>"
      ]
     },
     "metadata": {},
     "output_type": "display_data"
    },
    {
     "name": "stdout",
     "output_type": "stream",
     "text": [
      "============ PROPOSED EXERCISE ============\n",
      "Skill= ['D10']\n"
     ]
    },
    {
     "data": {
      "image/png": "[encoded data removed]",
      "text/plain": [
       "<matplotlib.figure.Figure at 0x10de570f0>"
      ]
     },
     "metadata": {},
     "output_type": "display_data"
    }
   ],
   "source": [
    "######################### TEST ##################################\n",
    "print('=============  INITIAL IMAGE =============')\n",
    "filename='mix_images/D10_21.png'\n",
    "img=mpimg.imread(filename)\n",
    "imgplot = plt.imshow(img)\n",
    "plt.show()\n",
    "\n",
    "print('============ PROPOSED EXERCISE ============')\n",
    "#convert the image into an array using bag of words\n",
    "X_exp=list_to_array(image_to_list(filename), liste_features)\n",
    "# we predict it\n",
    "y_predict=np.asarray(log.predict(X_exp)).reshape(-1,1)\n",
    "\n",
    "print('Skill=',y_predict[0])\n",
    "# we give an exercicese from the same skill\n",
    "give_exercise_skill(y_predict[0][0])\n"
   ]
  },
  {
   "cell_type": "markdown",
   "metadata": {
    "ExecuteTime": {
     "end_time": "2017-12-02T21:42:56.965772Z",
     "start_time": "2017-12-02T21:42:56.721201Z"
    }
   },
   "source": [
    "# Unsupervised learning"
   ]
  },
  {
   "cell_type": "markdown",
   "metadata": {
    "ExecuteTime": {
     "end_time": "2017-12-02T21:42:58.022886Z",
     "start_time": "2017-12-02T21:42:56.973134Z"
    }
   },
   "source": [
    "The aim of this section is to be able to make a cluster of all the exercices. In fact, the final aim would be to propose exercises similar to an input exercise. We are now using a dataset with more data than previously but unlabeled. "
   ]
  },
  {
   "cell_type": "markdown",
   "metadata": {},
   "source": [
    "## Training"
   ]
  },
  {
   "cell_type": "code",
   "execution_count": 42,
   "metadata": {
    "ExecuteTime": {
     "end_time": "2017-12-10T01:35:34.536539Z",
     "start_time": "2017-12-10T01:35:34.338006Z"
    }
   },
   "outputs": [],
   "source": [
    "############################ Useful functions ################################################\n",
    "from PIL import Image\n",
    "import glob\n",
    "\n",
    "\n",
    "def give_images(n1,n2,n3):\n",
    "    compt=0\n",
    "    for filename in glob.glob('mix_images/*.png'):\n",
    "        \n",
    "        if (compt==n1 or compt==n2 or compt==n3):\n",
    "            print(filename)\n",
    "            img=mpimg.imread(filename)\n",
    "            imgplot = plt.imshow(img)\n",
    "            plt.show()\n",
    "            #jpgfile = Image.open(filename)\n",
    "            #jpgfile.show()\n",
    "            \n",
    "        compt=compt+1   \n",
    "\n",
    "#get the closest center from a element\n",
    "def closest_center(X_exp,centers):\n",
    "    num_label=0\n",
    "    \n",
    "    center_coord=centers[0].copy()\n",
    "    center_coord=center_coord.reshape(1,len( center_coord))\n",
    "    dist_min=np.linalg.norm(X_exp.T-center_coord.T)\n",
    "    \n",
    "    for i in range(len(centers)):\n",
    "        center_coord=centers[i].copy()\n",
    "        center_coord=center_coord.reshape(1,len( center_coord))\n",
    "        dist=np.linalg.norm(X_exp.T-center_coord.T)\n",
    "        if(dist_min>dist):\n",
    "            dist_min=dist\n",
    "            num_label=i\n",
    "    print('label number:', num_label)\n",
    "    return num_label\n",
    "\n",
    "#get the id elements that are in a certain class\n",
    "def ClusterIndicesNumpy(clustNum, labels_array): #numpy \n",
    "    return np.where(labels_array == clustNum)[0]\n",
    "\n",
    "\n",
    "#this function return an array with the centers, and list where list[i]=array[id of elements in class i]\n",
    "def k_mean_map(nb_clusters, X):\n",
    "    list_id_in_label=[]\n",
    "    kmeans2 = KMeans(n_clusters=nb_cluster)\n",
    "    kmeans2.fit(X)\n",
    "    centers=kmeans2.cluster_centers_\n",
    "    labels=kmeans2.labels_# label of all the element\n",
    "    \n",
    "    for i in range(nb_clusters):\n",
    "        list_id_in_label.append(ClusterIndicesNumpy(i, labels))\n",
    "    return centers , list_id_in_label\n",
    "\n",
    "# gives 3 very similar exercises\n",
    "def similar_exercise(filename, liste_features, centers,list_id_in_label):\n",
    "    \n",
    "    X_exp=list_to_array(image_to_list(filename), liste_features)\n",
    "    label_id=closest_center(X_exp,centers)\n",
    "    similar_exo=list_id_in_label[label_id].tolist()\n",
    "    give_images(similar_exo[0],similar_exo[1],similar_exo[2])\n",
    "    \n",
    "def kmean_plot(liste_n, X):\n",
    "    loss=[]\n",
    "    for n in liste_n:\n",
    "        centers , list_id_in_label= k_mean_map(nb_cluster, X)\n",
    "        somme=0\n",
    "        for k in range(n):\n",
    "            for id in list_id_in_label[n]:\n",
    "                somme=somme+(X[id,:]-centers[n,:])**2\n",
    "        loss.append(somme)\n",
    "        \n",
    "    plt.plot(liste_k, loss, label=' Loss function of nb_cluster')\n",
    "    plt.xlabel('nb_clusters')\n",
    "    plt.ylabel('Loss')\n",
    "    plt.legend()\n",
    "    plt.show()\n",
    "#########################################################################################################        "
   ]
  },
  {
   "cell_type": "code",
   "execution_count": null,
   "metadata": {
    "ExecuteTime": {
     "start_time": "2017-12-10T01:36:12.327Z"
    }
   },
   "outputs": [
    {
     "name": "stdout",
     "output_type": "stream",
     "text": [
      "--------- best parameter research (k mean clustering)--------------------\n"
     ]
    }
   ],
   "source": [
    "############## k-mean clustering (best parameter research)#####################\n",
    "print('--------- best parameter research (k mean clustering)--------------------')\n",
    "from sklearn.cluster import KMeans\n",
    "import numpy as np\n",
    "\n",
    "parameters = {'n_clusters':[k for k in range(100,120)]}\n",
    "kmeans = KMeans()\n",
    "kmeans = GridSearchCV(kmeans, parameters)\n",
    "kmeans.fit(X)\n",
    "# we get the best number of clusters\n",
    "nb_cluster=kmeans.best_params_['n_clusters']\n",
    "print(kmeans.best_params_)\n",
    "\n",
    "liste_n=[n for n in range(100, 120)]\n",
    "kmean_plot(liste_n, X)\n",
    "#nb_cluster=111\n",
    "########################## k mean clustering ##################\n",
    "print('--------- k mean clustering  --------------------')\n",
    "kmeans2 = KMeans(n_clusters=nb_cluster)\n",
    "kmeans2.fit(X)\n",
    "\n",
    "labels=kmeans2.labels_# label of all the element\n",
    "centers=kmeans2.cluster_centers_\n",
    "\n",
    "\n"
   ]
  },
  {
   "cell_type": "code",
   "execution_count": 41,
   "metadata": {
    "ExecuteTime": {
     "end_time": "2017-12-10T01:34:21.472999Z",
     "start_time": "2017-12-10T01:34:19.597774Z"
    }
   },
   "outputs": [
    {
     "name": "stdout",
     "output_type": "stream",
     "text": [
      "(118, 253) (253,)\n"
     ]
    }
   ],
   "source": [
    "########################## test #############################\n",
    "centers , list_id_in_label= k_mean_map(nb_cluster, X)\n",
    "print(centers.shape, X[1,:].shape)"
   ]
  },
  {
   "cell_type": "markdown",
   "metadata": {},
   "source": [
    "## Give a similar type of exercise "
   ]
  },
  {
   "cell_type": "code",
   "execution_count": 26,
   "metadata": {
    "ExecuteTime": {
     "end_time": "2017-12-10T00:29:00.801541Z",
     "start_time": "2017-12-10T00:28:59.206460Z"
    }
   },
   "outputs": [
    {
     "name": "stdout",
     "output_type": "stream",
     "text": [
      "================ INITIAL EXERCISE ================\n"
     ]
    },
    {
     "data": {
      "image/png": "[encoded data removed]",
      "text/plain": [
       "<matplotlib.figure.Figure at 0x107a5ad30>"
      ]
     },
     "metadata": {},
     "output_type": "display_data"
    },
    {
     "name": "stdout",
     "output_type": "stream",
     "text": [
      "================ PROPOSED EXERCISES ================\n",
      "label number: 32\n",
      "mix_images/A1_7.png\n"
     ]
    },
    {
     "data": {
      "image/png": "[encoded data removed]",
      "text/plain": [
       "<matplotlib.figure.Figure at 0x10def8cf8>"
      ]
     },
     "metadata": {},
     "output_type": "display_data"
    },
    {
     "name": "stdout",
     "output_type": "stream",
     "text": [
      "mix_images/D10_12.png\n"
     ]
    },
    {
     "data": {
      "image/png": "[encoded data removed]",
      "text/plain": [
       "<matplotlib.figure.Figure at 0x10deca198>"
      ]
     },
     "metadata": {},
     "output_type": "display_data"
    },
    {
     "name": "stdout",
     "output_type": "stream",
     "text": [
      "mix_images/D10_16.png\n"
     ]
    },
    {
     "data": {
      "image/png": "[encoded data removed]",
      "text/plain": [
       "<matplotlib.figure.Figure at 0x10de0def0>"
      ]
     },
     "metadata": {},
     "output_type": "display_data"
    }
   ],
   "source": [
    "################## Test ################\n",
    "print('================ INITIAL EXERCISE ================')\n",
    "filename='mix_images/D10_21.png' \n",
    "img=mpimg.imread(filename)\n",
    "imgplot = plt.imshow(img)\n",
    "plt.show()\n",
    "print('================ PROPOSED EXERCISES ================')\n",
    "similar_exercise(filename, liste_features, centers,list_id_in_label)\n",
    "\n"
   ]
  },
  {
   "cell_type": "markdown",
   "metadata": {
    "ExecuteTime": {
     "end_time": "2017-12-04T00:09:26.679056Z",
     "start_time": "2017-12-04T00:09:26.405593Z"
    }
   },
   "source": [
    "\n"
   ]
  },
  {
   "cell_type": "markdown",
   "metadata": {},
   "source": [
    "$Remark:$\n",
    "We can observe that one out of the 3 proposed exercises has nothing to do with the input exercise. This problem can be tackled with more data ! If we had a lot of labeled data, we could first train a supervised learning algorithm to predict the exercise's skill, and then train an unsupervised algorithm within  the targeted skill in order to propose a similar type of exercise"
   ]
  },
  {
   "cell_type": "code",
   "execution_count": null,
   "metadata": {},
   "outputs": [],
   "source": []
  }
 ],
 "metadata": {
  "kernelspec": {
   "display_name": "Python 3",
   "language": "python",
   "name": "python3"
  },
  "language_info": {
   "codemirror_mode": {
    "name": "ipython",
    "version": 3
   },
   "file_extension": ".py",
   "mimetype": "text/x-python",
   "name": "python",
   "nbconvert_exporter": "python",
   "pygments_lexer": "ipython3",
   "version": "3.6.2"
  },
  "toc": {
   "nav_menu": {},
   "number_sections": true,
   "sideBar": true,
   "skip_h1_title": false,
   "toc_cell": false,
   "toc_position": {},
   "toc_section_display": "block",
   "toc_window_display": false
  }
 },
 "nbformat": 4,
 "nbformat_minor": 2
}
